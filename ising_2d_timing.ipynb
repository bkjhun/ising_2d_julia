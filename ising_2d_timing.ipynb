{
 "cells": [
  {
   "cell_type": "markdown",
   "metadata": {},
   "source": [
    "# Boolean format"
   ]
  },
  {
   "cell_type": "code",
   "execution_count": 8,
   "metadata": {},
   "outputs": [],
   "source": [
    "# Julia 0.6.4 code"
   ]
  },
  {
   "cell_type": "markdown",
   "metadata": {},
   "source": [
    "Random site flipping\n",
    "\n",
    "No table for exponentials ($e^{-E/T}$)"
   ]
  },
  {
   "cell_type": "code",
   "execution_count": 9,
   "metadata": {},
   "outputs": [
    {
     "name": "stdout",
     "output_type": "stream",
     "text": [
      "0.09300017356872559\n",
      "0.8230001926422119\n",
      "1.751000165939331\n",
      "2.680999994277954\n",
      "3.427000045776367\n",
      "4.190000057220459\n",
      "4.881999969482422\n",
      "5.581000089645386\n",
      "6.296000003814697\n",
      "6.991000175476074\n",
      "7.693000078201294\n"
     ]
    }
   ],
   "source": [
    "Start = time()\n",
    "\n",
    "Length = 100\n",
    "\n",
    "Config = rand(Bool, Length,Length)\n",
    "\n",
    "num_sample = 1001\n",
    "\n",
    "Temperature = 2.3\n",
    "\n",
    "for index_sample = 1:num_sample\n",
    "    for iteration = 1:Length^2\n",
    "        x = mod(rand(Int8),Length) + 1\n",
    "        y = mod(rand(Int8),Length) + 1\n",
    "\n",
    "        spin_site = Config[x,y]\n",
    "        E = 4\n",
    "        if Config[mod(x,Length)+1,y] == spin_site\n",
    "            E -= 2\n",
    "        end\n",
    "        if Config[mod(x-2,Length)+1,y] == spin_site\n",
    "            E -= 2\n",
    "        end\n",
    "        if Config[x,mod(y,Length)+1] == spin_site\n",
    "            E -= 2\n",
    "        end\n",
    "        if Config[x,mod(y-2,Length)+1] == spin_site\n",
    "            E -= 2\n",
    "        end\n",
    "        \n",
    "        if E >= 0\n",
    "            Config[x,y] = !Config[x,y] # Flip\n",
    "        elseif rand(Float64) < exp(2*E/Temperature)\n",
    "            Config[x,y] = !Config[x,y] # Flip\n",
    "        end\n",
    "    end\n",
    "    if index_sample%100 == 1\n",
    "        End = time()\n",
    "        println(End-Start)\n",
    "    end\n",
    "end\n"
   ]
  },
  {
   "cell_type": "markdown",
   "metadata": {},
   "source": [
    "Typewriter site flipping\n",
    "\n",
    "No table for exponentials ($e^{-E/T}$)"
   ]
  },
  {
   "cell_type": "code",
   "execution_count": 10,
   "metadata": {
    "scrolled": true
   },
   "outputs": [
    {
     "name": "stdout",
     "output_type": "stream",
     "text": [
      "0.07899999618530273\n",
      "0.6329998970031738\n",
      "1.2070000171661377\n",
      "1.812999963760376\n",
      "2.447999954223633\n",
      "3.003000020980835\n",
      "3.555999994277954\n",
      "4.121999979019165\n",
      "4.667999982833862\n",
      "5.230999946594238\n",
      "5.770999908447266\n"
     ]
    }
   ],
   "source": [
    "Start = time()\n",
    "\n",
    "Length = 100\n",
    "\n",
    "Config = rand(Bool, Length,Length)\n",
    "\n",
    "num_sample = 1001\n",
    "\n",
    "Temperature = 2.3\n",
    "\n",
    "for index_sample = 1:num_sample\n",
    "    for x = 1:Length\n",
    "        for y = 1:Length\n",
    "            spin_site = Config[x,y]\n",
    "            E = 4\n",
    "            if Config[mod(x,Length)+1,y] == spin_site\n",
    "                E -= 2\n",
    "            end\n",
    "            if Config[mod(x-2,Length)+1,y] == spin_site\n",
    "                E -= 2\n",
    "            end\n",
    "            if Config[x,mod(y,Length)+1] == spin_site\n",
    "                E -= 2\n",
    "            end\n",
    "            if Config[x,mod(y-2,Length)+1] == spin_site\n",
    "                E -= 2\n",
    "            end\n",
    "\n",
    "            if E >= 0\n",
    "                Config[x,y] = !Config[x,y] # Flip\n",
    "            elseif rand(Float64) < exp(2*E/Temperature)\n",
    "                Config[x,y] = !Config[x,y] # Flip\n",
    "            end\n",
    "        end\n",
    "    end\n",
    "    if index_sample%100 == 1\n",
    "        End = time()\n",
    "        println(End-Start)\n",
    "    end\n",
    "end\n"
   ]
  },
  {
   "cell_type": "markdown",
   "metadata": {},
   "source": [
    "Random site flipping\n",
    "\n",
    "Using table for exponentials ($e^{-E/T}$)"
   ]
  },
  {
   "cell_type": "code",
   "execution_count": 11,
   "metadata": {},
   "outputs": [
    {
     "name": "stdout",
     "output_type": "stream",
     "text": [
      "0.07399988174438477\n",
      "0.7950000762939453\n",
      "1.5109999179840088\n",
      "2.319000005722046\n",
      "2.9660000801086426\n",
      "3.7660000324249268\n",
      "4.519000053405762\n",
      "5.247999906539917\n",
      "5.924000024795532\n",
      "6.604000091552734\n",
      "7.3480000495910645\n"
     ]
    }
   ],
   "source": [
    "Start = time()\n",
    "\n",
    "Length = 100\n",
    "\n",
    "Config = rand(Bool, Length,Length)\n",
    "\n",
    "num_sample = 1001\n",
    "\n",
    "Temperature = 2.3\n",
    "list_exp = exp.(2*[-4 -2] / Temperature)\n",
    "\n",
    "for index_sample = 1:num_sample\n",
    "    for iteration = 1:Length^2\n",
    "        x = mod(rand(Int8),Length) + 1\n",
    "        y = mod(rand(Int8),Length) + 1\n",
    "\n",
    "        spin_site = Config[x,y]\n",
    "        E = 4\n",
    "        if Config[mod(x,Length)+1,y] == spin_site\n",
    "            E -= 2\n",
    "        end\n",
    "        if Config[mod(x-2,Length)+1,y] == spin_site\n",
    "            E -= 2\n",
    "        end\n",
    "        if Config[x,mod(y,Length)+1] == spin_site\n",
    "            E -= 2\n",
    "        end\n",
    "        if Config[x,mod(y-2,Length)+1] == spin_site\n",
    "            E -= 2\n",
    "        end\n",
    "\n",
    "        if E == -4\n",
    "            probability = list_exp[1]\n",
    "        else\n",
    "            probability = list_exp[2]\n",
    "        end       \n",
    "        \n",
    "        if E >= 0\n",
    "            Config[x,y] = !Config[x,y] # Flip\n",
    "        elseif rand(Float64) < probability\n",
    "            Config[x,y] = !Config[x,y] # Flip\n",
    "        end\n",
    "    end\n",
    "    if index_sample%100 == 1\n",
    "        End = time()\n",
    "        println(End-Start)\n",
    "    end\n",
    "end\n"
   ]
  },
  {
   "cell_type": "markdown",
   "metadata": {},
   "source": [
    "Typewriter site flipping\n",
    "\n",
    "Using table for exponentials ($e^{-E/T}$)"
   ]
  },
  {
   "cell_type": "code",
   "execution_count": 12,
   "metadata": {
    "scrolled": true
   },
   "outputs": [
    {
     "name": "stdout",
     "output_type": "stream",
     "text": [
      "0.0820000171661377\n",
      "0.6690001487731934\n",
      "1.252000093460083\n",
      "1.8359999656677246\n",
      "2.4609999656677246\n",
      "3.074000120162964\n",
      "3.742000102996826\n",
      "4.335999965667725\n",
      "4.9070000648498535\n",
      "5.5\n",
      "6.011000156402588\n"
     ]
    }
   ],
   "source": [
    "Start = time()\n",
    "\n",
    "Length = 100\n",
    "\n",
    "Config = rand(Bool, Length,Length)\n",
    "\n",
    "num_sample = 1001\n",
    "\n",
    "Temperature = 2.3\n",
    "list_exp = exp.(2*[-4 -2] / Temperature)\n",
    "\n",
    "for index_sample = 1:num_sample\n",
    "    for x = 1:Length\n",
    "        for y = 1:Length\n",
    "            spin_site = Config[x,y]\n",
    "            E = 4\n",
    "            if Config[mod(x,Length)+1,y] == spin_site\n",
    "                E -= 2\n",
    "            end\n",
    "            if Config[mod(x-2,Length)+1,y] == spin_site\n",
    "                E -= 2\n",
    "            end\n",
    "            if Config[x,mod(y,Length)+1] == spin_site\n",
    "                E -= 2\n",
    "            end\n",
    "            if Config[x,mod(y-2,Length)+1] == spin_site\n",
    "                E -= 2\n",
    "            end\n",
    "\n",
    "            if E == -4\n",
    "                probability = list_exp[1]\n",
    "            else\n",
    "                probability = list_exp[2]\n",
    "            end       \n",
    "\n",
    "            if E >= 0\n",
    "                Config[x,y] = !Config[x,y] # Flip\n",
    "            elseif rand(Float64) < probability\n",
    "                Config[x,y] = !Config[x,y] # Flip\n",
    "            end\n",
    "        end\n",
    "    end\n",
    "    if index_sample%100 == 1\n",
    "        End = time()\n",
    "        println(End-Start)\n",
    "    end\n",
    "end\n"
   ]
  },
  {
   "cell_type": "markdown",
   "metadata": {},
   "source": [
    "# Integer format"
   ]
  },
  {
   "cell_type": "markdown",
   "metadata": {},
   "source": [
    "Random site flipping\n",
    "\n",
    "No table for exponentials ($e^{-E/T}$)"
   ]
  },
  {
   "cell_type": "code",
   "execution_count": 13,
   "metadata": {},
   "outputs": [
    {
     "name": "stdout",
     "output_type": "stream",
     "text": [
      "0.0709998607635498\n",
      "0.8059999942779541\n",
      "1.5479998588562012\n",
      "2.312999963760376\n",
      "3.0739998817443848\n",
      "3.8269999027252197\n",
      "4.572000026702881\n",
      "5.381999969482422\n",
      "6.2779998779296875\n",
      "7.108999967575073\n",
      "7.851999998092651\n"
     ]
    }
   ],
   "source": [
    "Start = time()\n",
    "\n",
    "Length = 100\n",
    "\n",
    "Config = 2*rand(Bool, Length,Length).-1\n",
    "\n",
    "num_sample = 1001\n",
    "\n",
    "Temperature = 2.3\n",
    "\n",
    "for index_sample = 1:num_sample\n",
    "    for iteration = 1:Length^2\n",
    "        x = mod(rand(Int8),Length) + 1\n",
    "        y = mod(rand(Int8),Length) + 1\n",
    "\n",
    "        E = -Config[x,y] * (Config[mod(x-2,Length)+1,y] + Config[mod(x,Length)+1,y] + Config[x,mod(y-2,Length)+1] + Config[x,mod(y,Length)+1])\n",
    "        \n",
    "        if E >= 0\n",
    "            Config[x,y] = -Config[x,y] # Flip\n",
    "        elseif rand(Float64) < exp(2*E/Temperature)\n",
    "            Config[x,y] = -Config[x,y] # Flip\n",
    "        end\n",
    "    end\n",
    "    if index_sample%100 == 1\n",
    "        End = time()\n",
    "        println(End-Start)\n",
    "    end\n",
    "end\n"
   ]
  },
  {
   "cell_type": "markdown",
   "metadata": {},
   "source": [
    "Typewriter flipping\n",
    "\n",
    "No table for exponentials ($e^{-E/T}$)"
   ]
  },
  {
   "cell_type": "code",
   "execution_count": 14,
   "metadata": {},
   "outputs": [
    {
     "name": "stdout",
     "output_type": "stream",
     "text": [
      "0.0690000057220459\n",
      "0.7039999961853027\n",
      "1.305999994277954\n",
      "1.9690001010894775\n",
      "2.6550002098083496\n",
      "3.251000165939331\n",
      "3.92900013923645\n",
      "4.644000053405762\n",
      "5.28000020980835\n",
      "5.984000205993652\n",
      "6.583000183105469\n"
     ]
    }
   ],
   "source": [
    "Start = time()\n",
    "\n",
    "Length = 100\n",
    "\n",
    "Config = 2*rand(Bool, Length,Length).-1\n",
    "\n",
    "num_sample = 1001\n",
    "\n",
    "Temperature = 2.3\n",
    "\n",
    "for index_sample = 1:num_sample\n",
    "    for x = 1:Length\n",
    "        for y = 1:Length\n",
    "            E = -Config[x,y] * (Config[mod(x-2,Length)+1,y] + Config[mod(x,Length)+1,y] + Config[x,mod(y-2,Length)+1] + Config[x,mod(y,Length)+1])\n",
    "            if E >= 0\n",
    "                Config[x,y] = -Config[x,y] # Flip\n",
    "            elseif rand(Float64) < exp(2*E/Temperature)\n",
    "                Config[x,y] = -Config[x,y] # Flip\n",
    "            end\n",
    "        end\n",
    "    end\n",
    "    if index_sample%100 == 1\n",
    "        End = time()\n",
    "        println(End-Start)\n",
    "    end\n",
    "end\n"
   ]
  }
 ],
 "metadata": {
  "kernelspec": {
   "display_name": "Julia 0.6.4",
   "language": "julia",
   "name": "julia-1.0"
  },
  "language_info": {
   "file_extension": ".jl",
   "mimetype": "application/julia",
   "name": "julia",
   "version": "0.6.4"
  }
 },
 "nbformat": 4,
 "nbformat_minor": 2
}
