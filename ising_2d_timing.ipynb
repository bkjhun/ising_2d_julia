{
 "cells": [
  {
   "cell_type": "markdown",
   "metadata": {},
   "source": [
    "# Boolean format"
   ]
  },
  {
   "cell_type": "code",
   "execution_count": 36,
   "metadata": {},
   "outputs": [],
   "source": [
    "# Julia 0.6.4 code"
   ]
  },
  {
   "cell_type": "markdown",
   "metadata": {},
   "source": [
    "Random site flipping\n",
    "\n",
    "No table for exponentials ($e^{-E/T}$)\n",
    "\n",
    "Without type-assertion / let-block / function-block"
   ]
  },
  {
   "cell_type": "code",
   "execution_count": 1,
   "metadata": {},
   "outputs": [
    {
     "name": "stdout",
     "output_type": "stream",
     "text": [
      "11.404000043869019\n"
     ]
    }
   ],
   "source": [
    "Length = 100\n",
    "Config = rand(Bool, Length,Length)\n",
    "num_sample = 1000\n",
    "Temperature = 2.3\n",
    "\n",
    "Start = time()\n",
    "for index_sample = 1:num_sample\n",
    "    for iteration = 1:Length^2\n",
    "        x = mod(rand(Int8),Length) + 1\n",
    "        y = mod(rand(Int8),Length) + 1\n",
    "\n",
    "        E = 4-2*(Config[x,y]==Config[mod(x,Length)+1,y] + Config[x,y]==Config[mod(x-2,Length)+1,y] + Config[x,y]==Config[x,mod(y,Length)+1]+ Config[x,y]==Config[x,mod(y-2,Length)+1]) \n",
    "        if E >= 0\n",
    "            Config[x,y] = !Config[x,y] # Flip\n",
    "        elseif rand(Float64) < exp(2*E/Temperature)\n",
    "            Config[x,y] = !Config[x,y] # Flip\n",
    "        end\n",
    "    end\n",
    "end\n",
    "End = time()\n",
    "println(End-Start)"
   ]
  },
  {
   "cell_type": "markdown",
   "metadata": {},
   "source": [
    "Random site flipping\n",
    "\n",
    "No table for exponentials ($e^{-E/T}$)"
   ]
  },
  {
   "cell_type": "code",
   "execution_count": 1,
   "metadata": {},
   "outputs": [
    {
     "name": "stdout",
     "output_type": "stream",
     "text": [
      "0.6010000705718994\n"
     ]
    }
   ],
   "source": [
    "let Length, Config, num_sample, Temperature\n",
    "    Length = 100\n",
    "    Config = rand(Bool, Length,Length)\n",
    "    num_sample = 1000\n",
    "    Temperature = 2.3\n",
    "    \n",
    "    Start = time()\n",
    "    for index_sample = 1:num_sample\n",
    "        for iteration = 1:Length^2\n",
    "            x = mod(rand(Int8),Length) + 1\n",
    "            y = mod(rand(Int8),Length) + 1\n",
    "            \n",
    "            E = 4-2*(Config[x,y]==Config[mod(x,Length)+1,y] + Config[x,y]==Config[mod(x-2,Length)+1,y] + Config[x,y]==Config[x,mod(y,Length)+1]+ Config[x,y]==Config[x,mod(y-2,Length)+1])\n",
    "            if E >= 0\n",
    "                Config[x,y] = !Config[x,y] # Flip\n",
    "            elseif rand(Float64) < exp(2*E/Temperature)\n",
    "                Config[x,y] = !Config[x,y] # Flip\n",
    "            end\n",
    "        end\n",
    "    end\n",
    "    End = time()\n",
    "    println(End-Start)\n",
    "end"
   ]
  },
  {
   "cell_type": "code",
   "execution_count": 2,
   "metadata": {},
   "outputs": [
    {
     "data": {
      "text/plain": [
       "rs_notable (generic function with 1 method)"
      ]
     },
     "execution_count": 2,
     "metadata": {},
     "output_type": "execute_result"
    }
   ],
   "source": [
    "function rs_notable()\n",
    "    Length = 100\n",
    "    Config = rand(Bool, Length,Length)\n",
    "    num_sample = 1000\n",
    "    Temperature = 2.3\n",
    "    \n",
    "    Start = time()\n",
    "    for index_sample = 1:num_sample\n",
    "        for iteration = 1:Length^2\n",
    "            x = mod(rand(Int8),Length) + 1\n",
    "            y = mod(rand(Int8),Length) + 1\n",
    "            \n",
    "            E = 4-2*(Config[x,y]==Config[mod(x,Length)+1,y] + Config[x,y]==Config[mod(x-2,Length)+1,y] + Config[x,y]==Config[x,mod(y,Length)+1]+ Config[x,y]==Config[x,mod(y-2,Length)+1]) \n",
    "            if E >= 0\n",
    "                Config[x,y] = !Config[x,y] # Flip\n",
    "            elseif rand(Float64) < exp(2*E/Temperature)\n",
    "                Config[x,y] = !Config[x,y] # Flip\n",
    "            end\n",
    "        end\n",
    "    end\n",
    "    End = time()\n",
    "    println(End-Start)    \n",
    "end"
   ]
  },
  {
   "cell_type": "markdown",
   "metadata": {},
   "source": [
    "Typewriter site flipping\n",
    "\n",
    "No table for exponentials ($e^{-E/T}$)"
   ]
  },
  {
   "cell_type": "code",
   "execution_count": 3,
   "metadata": {
    "scrolled": true
   },
   "outputs": [
    {
     "data": {
      "text/plain": [
       "tw_notable (generic function with 1 method)"
      ]
     },
     "execution_count": 3,
     "metadata": {},
     "output_type": "execute_result"
    }
   ],
   "source": [
    "function tw_notable()\n",
    "    Length = 100\n",
    "    Config = rand(Bool, Length,Length)\n",
    "    num_sample = 1000\n",
    "    Temperature = 2.3\n",
    "\n",
    "    Start = time()\n",
    "    for index_sample = 1:num_sample\n",
    "        for x = 1:Length\n",
    "            for y = 1:Length\n",
    "                \n",
    "                E = 4-2*(Config[x,y]==Config[mod(x,Length)+1,y] + Config[x,y]==Config[mod(x-2,Length)+1,y] + Config[x,y]==Config[x,mod(y,Length)+1]+ Config[x,y]==Config[x,mod(y-2,Length)+1]) \n",
    "                if E >= 0\n",
    "                    Config[x,y] = !Config[x,y] # Flip\n",
    "                elseif rand(Float64) < exp(2*E/Temperature)\n",
    "                    Config[x,y] = !Config[x,y] # Flip\n",
    "                end\n",
    "            end\n",
    "        end\n",
    "    end\n",
    "    End = time()\n",
    "    println(End-Start)   \n",
    "end"
   ]
  },
  {
   "cell_type": "markdown",
   "metadata": {},
   "source": [
    "Random site flipping\n",
    "\n",
    "Using table for exponentials ($e^{-E/T}$)"
   ]
  },
  {
   "cell_type": "code",
   "execution_count": 4,
   "metadata": {},
   "outputs": [
    {
     "data": {
      "text/plain": [
       "rs_table (generic function with 1 method)"
      ]
     },
     "execution_count": 4,
     "metadata": {},
     "output_type": "execute_result"
    }
   ],
   "source": [
    "function rs_table()\n",
    "    Length = 100\n",
    "    Config = rand(Bool, Length,Length)\n",
    "    num_sample = 1001\n",
    "    Temperature = 2.3\n",
    "    list_exp = exp.(2*[-4 -2] / Temperature)\n",
    "\n",
    "    Start = time()\n",
    "    for index_sample = 1:num_sample\n",
    "        for iteration = 1:Length^2\n",
    "            x = mod(rand(Int8),Length) + 1\n",
    "            y = mod(rand(Int8),Length) + 1\n",
    "\n",
    "            E = 4-2*(Config[x,y]==Config[mod(x,Length)+1,y] + Config[x,y]==Config[mod(x-2,Length)+1,y] + Config[x,y]==Config[x,mod(y,Length)+1]+ Config[x,y]==Config[x,mod(y-2,Length)+1]) \n",
    " \n",
    "            if E >= 0\n",
    "                Config[x,y] = !Config[x,y] # Flip\n",
    "            else\n",
    "                if E == -4\n",
    "                    probability = list_exp[1]\n",
    "                else\n",
    "                    probability = list_exp[2]\n",
    "                end      \n",
    "                if rand(Float64) < probability\n",
    "                    Config[x,y] = !Config[x,y] # Flip\n",
    "                end\n",
    "            end\n",
    "        end\n",
    "    end\n",
    "    End = time()\n",
    "    println(End-Start)   \n",
    "end"
   ]
  },
  {
   "cell_type": "markdown",
   "metadata": {},
   "source": [
    "Typewriter site flipping\n",
    "\n",
    "Using table for exponentials ($e^{-E/T}$)"
   ]
  },
  {
   "cell_type": "code",
   "execution_count": 5,
   "metadata": {
    "scrolled": true
   },
   "outputs": [
    {
     "data": {
      "text/plain": [
       "tw_table (generic function with 1 method)"
      ]
     },
     "execution_count": 5,
     "metadata": {},
     "output_type": "execute_result"
    }
   ],
   "source": [
    "function tw_table()\n",
    "    Length = 100\n",
    "    Config = rand(Bool, Length,Length)\n",
    "    num_sample = 1001\n",
    "    Temperature = 2.3\n",
    "    list_exp = exp.(2*[-4 -2] / Temperature)\n",
    "\n",
    "    Start = time()\n",
    "    for index_sample = 1:num_sample\n",
    "        for x = 1:Length\n",
    "            for y = 1:Length\n",
    "                \n",
    "                E = 4-2*(Config[x,y]==Config[mod(x,Length)+1,y] + Config[x,y]==Config[mod(x-2,Length)+1,y] + Config[x,y]==Config[x,mod(y,Length)+1]+ Config[x,y]==Config[x,mod(y-2,Length)+1]) \n",
    "\n",
    "                if E >= 0\n",
    "                    Config[x,y] = !Config[x,y] # Flip\n",
    "                else\n",
    "                    if E == -4\n",
    "                        probability = list_exp[1]\n",
    "                    else\n",
    "                        probability = list_exp[2]\n",
    "                    end      \n",
    "                    if rand(Float64) < probability\n",
    "                        Config[x,y] = !Config[x,y] # Flip\n",
    "                    end\n",
    "                end\n",
    "            end\n",
    "        end\n",
    "    end\n",
    "    End = time()\n",
    "    println(End-Start)   \n",
    "end"
   ]
  },
  {
   "cell_type": "markdown",
   "metadata": {},
   "source": [
    "# Integer format"
   ]
  },
  {
   "cell_type": "markdown",
   "metadata": {},
   "source": [
    "Random site flipping\n",
    "\n",
    "No table for exponentials ($e^{-E/T}$)"
   ]
  },
  {
   "cell_type": "code",
   "execution_count": 6,
   "metadata": {},
   "outputs": [
    {
     "data": {
      "text/plain": [
       "rs_notable_int (generic function with 1 method)"
      ]
     },
     "execution_count": 6,
     "metadata": {},
     "output_type": "execute_result"
    }
   ],
   "source": [
    "function rs_notable_int()\n",
    "    Length = 100\n",
    "    Config = 2*rand(Bool, Length,Length).-1\n",
    "    num_sample = 1000\n",
    "    Temperature = 2.3\n",
    "\n",
    "    Start = time()\n",
    "    for index_sample = 1:num_sample\n",
    "        for iteration = 1:Length^2\n",
    "            x = mod(rand(Int8),Length) + 1\n",
    "            y = mod(rand(Int8),Length) + 1\n",
    "\n",
    "            E = -Config[x,y] * (Config[mod(x-2,Length)+1,y] + Config[mod(x,Length)+1,y] + Config[x,mod(y-2,Length)+1] + Config[x,mod(y,Length)+1])\n",
    "            if E >= 0\n",
    "                Config[x,y] = -Config[x,y] # Flip\n",
    "            elseif rand(Float64) < exp(2*E/Temperature)\n",
    "                Config[x,y] = -Config[x,y] # Flip\n",
    "            end\n",
    "        end\n",
    "    end\n",
    "    End = time()\n",
    "    println(End-Start)   \n",
    "end"
   ]
  },
  {
   "cell_type": "markdown",
   "metadata": {},
   "source": [
    "Typewriter flipping\n",
    "\n",
    "No table for exponentials ($e^{-E/T}$)"
   ]
  },
  {
   "cell_type": "code",
   "execution_count": 7,
   "metadata": {},
   "outputs": [
    {
     "data": {
      "text/plain": [
       "tw_notable_int (generic function with 1 method)"
      ]
     },
     "execution_count": 7,
     "metadata": {},
     "output_type": "execute_result"
    }
   ],
   "source": [
    "function tw_notable_int()\n",
    "    Length = 100\n",
    "    Config = 2*rand(Bool, Length,Length).-1\n",
    "    num_sample = 1000\n",
    "    Temperature = 2.3\n",
    "\n",
    "    Start = time()\n",
    "    for index_sample = 1:num_sample\n",
    "        for x = 1:Length\n",
    "            for y = 1:Length\n",
    "                E = -Config[x,y] * (Config[mod(x-2,Length)+1,y] + Config[mod(x,Length)+1,y] + Config[x,mod(y-2,Length)+1] + Config[x,mod(y,Length)+1])\n",
    "                if E >= 0\n",
    "                    Config[x,y] = -Config[x,y] # Flip\n",
    "                elseif rand(Float64) < exp(2*E/Temperature)\n",
    "                    Config[x,y] = -Config[x,y] # Flip\n",
    "                end\n",
    "            end\n",
    "        end\n",
    "    end\n",
    "    End = time()\n",
    "    println(End-Start)   \n",
    "end"
   ]
  },
  {
   "cell_type": "code",
   "execution_count": 9,
   "metadata": {},
   "outputs": [
    {
     "name": "stdout",
     "output_type": "stream",
     "text": [
      "random-site\tno table\tboolean array\t0.5799999237060547\n",
      "typewriter\tno table\tboolean array\t0.12299990653991699\n",
      "random-site\ttable\tboolean array\t0.5740001201629639\n",
      "typewriter\ttable\tboolean array\t0.12800002098083496\n",
      "  0.128808 seconds (761 allocations: 77.484 KiB)\n",
      "random-site\tno table\tinteger array\t0.9179999828338623\n",
      "random-site\tno table\tinteger array\t0.440000057220459\n"
     ]
    }
   ],
   "source": [
    "print(\"random-site\\tno table\\tboolean array\\t\")\n",
    "rs_notable()\n",
    "print(\"typewriter\\tno table\\tboolean array\\t\")\n",
    "tw_notable()\n",
    "print(\"random-site\\ttable\\tboolean array\\t\")\n",
    "rs_table()\n",
    "print(\"typewriter\\ttable\\tboolean array\\t\")\n",
    "print(\"random-site\\tno table\\tinteger array\\t\")\n",
    "rs_notable_int()\n",
    "print(\"random-site\\tno table\\tinteger array\\t\")\n",
    "tw_notable_int()"
   ]
  },
  {
   "cell_type": "code",
   "execution_count": null,
   "metadata": {},
   "outputs": [],
   "source": []
  }
 ],
 "metadata": {
  "kernelspec": {
   "display_name": "Julia 0.6.4",
   "language": "julia",
   "name": "julia-0.6"
  },
  "language_info": {
   "file_extension": ".jl",
   "mimetype": "application/julia",
   "name": "julia",
   "version": "0.6.4"
  }
 },
 "nbformat": 4,
 "nbformat_minor": 2
}
